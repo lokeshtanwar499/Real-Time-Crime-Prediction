{
 "cells": [
  {
   "cell_type": "markdown",
   "id": "a8c33a24",
   "metadata": {},
   "source": [
    "# Real-Time Crime Prediction System\n",
    "This notebook builds a real-time crime prediction system with a Flask API backend and XGBoost/Random Forest models."
   ]
  },
  {
   "cell_type": "code",
   "execution_count": null,
   "id": "7c0a6ccc",
   "metadata": {},
   "outputs": [],
   "source": [
    "# Install necessary packages\n",
    "!pip install xgboost scikit-learn flask pyngrok pandas geopy\n"
   ]
  },
  {
   "cell_type": "markdown",
   "id": "648b29b4",
   "metadata": {},
   "source": [
    "## Data Loading and Preprocessing"
   ]
  },
  {
   "cell_type": "code",
   "execution_count": null,
   "id": "d6d85750",
   "metadata": {},
   "outputs": [],
   "source": [
    "import pandas as pd\n",
    "from sklearn.preprocessing import LabelEncoder\n",
    "from sklearn.model_selection import train_test_split\n",
    "from sklearn.ensemble import RandomForestClassifier\n",
    "from xgboost import XGBClassifier\n",
    "import joblib\n",
    "\n",
    "# Load dataset\n",
    "df = pd.read_csv(\"/mnt/data/crime_dataset_500k.csv\")\n",
    "\n",
    "# Feature engineering\n",
    "df['Hour'] = pd.to_datetime(df['Time']).dt.hour\n",
    "df['Month'] = pd.to_datetime(df['Date']).dt.month\n",
    "df['Day'] = pd.to_datetime(df['Date']).dt.dayofweek\n",
    "\n",
    "# Encode categorical features\n",
    "le_crime = LabelEncoder()\n",
    "le_city = LabelEncoder()\n",
    "df['Crime_Type'] = le_crime.fit_transform(df['Crime_Type'])\n",
    "df['City'] = le_city.fit_transform(df['City'])\n",
    "\n",
    "# Features and target\n",
    "features = ['City', 'Latitude', 'Longitude', 'Hour', 'Month', 'Day']\n",
    "target = 'Crime_Type'\n",
    "X = df[features]\n",
    "y = df[target]\n",
    "\n",
    "# Train/test split\n",
    "X_train, X_test, y_train, y_test = train_test_split(X, y, test_size=0.2, random_state=42)\n"
   ]
  },
  {
   "cell_type": "markdown",
   "id": "42fcca69",
   "metadata": {},
   "source": [
    "## Model Training"
   ]
  },
  {
   "cell_type": "code",
   "execution_count": null,
   "id": "5ffd33b0",
   "metadata": {},
   "outputs": [],
   "source": [
    "# Train Random Forest\n",
    "rf = RandomForestClassifier(n_estimators=100, random_state=42)\n",
    "rf.fit(X_train, y_train)\n",
    "\n",
    "# Train XGBoost\n",
    "xgb = XGBClassifier(use_label_encoder=False, eval_metric='mlogloss')\n",
    "xgb.fit(X_train, y_train)\n",
    "\n",
    "# Save models and encoders\n",
    "joblib.dump(rf, 'random_forest_model.pkl')\n",
    "joblib.dump(xgb, 'xgboost_model.pkl')\n",
    "joblib.dump(le_crime, 'label_encoder_crime.pkl')\n",
    "joblib.dump(le_city, 'label_encoder_city.pkl')\n"
   ]
  },
  {
   "cell_type": "markdown",
   "id": "ddfe47eb",
   "metadata": {},
   "source": [
    "## Flask API with pyngrok"
   ]
  },
  {
   "cell_type": "code",
   "execution_count": null,
   "id": "62b7085f",
   "metadata": {},
   "outputs": [],
   "source": [
    "from flask import Flask, request, jsonify\n",
    "from pyngrok import ngrok\n",
    "import joblib\n",
    "\n",
    "# Load models\n",
    "rf = joblib.load(\"random_forest_model.pkl\")\n",
    "xgb = joblib.load(\"xgboost_model.pkl\")\n",
    "le_crime = joblib.load(\"label_encoder_crime.pkl\")\n",
    "le_city = joblib.load(\"label_encoder_city.pkl\")\n",
    "\n",
    "app = Flask(__name__)\n",
    "\n",
    "@app.route(\"/\")\n",
    "def home():\n",
    "    return \"Real-Time Crime Prediction API\"\n",
    "\n",
    "@app.route(\"/predict\", methods=[\"POST\"])\n",
    "def predict():\n",
    "    data = request.json\n",
    "    city = le_city.transform([data['City']])[0]\n",
    "    input_data = [[\n",
    "        city,\n",
    "        data['Latitude'],\n",
    "        data['Longitude'],\n",
    "        data['Hour'],\n",
    "        data['Month'],\n",
    "        data['Day']\n",
    "    ]]\n",
    "    prediction = rf.predict(input_data)[0]\n",
    "    crime = le_crime.inverse_transform([prediction])[0]\n",
    "    return jsonify({\"Predicted_Crime_Type\": crime})\n",
    "\n",
    "# Start Flask app with ngrok tunnel\n",
    "public_url = ngrok.connect(5000)\n",
    "print(\"Public URL:\", public_url)\n",
    "app.run()\n"
   ]
  },
  {
   "cell_type": "markdown",
   "id": "ff57d13a",
   "metadata": {},
   "source": [
    "## Frontend Setup\n",
    "You can now build a React frontend to send POST requests to the `/predict` endpoint using the `public_url` shown above."
   ]
  }
 ],
 "metadata": {},
 "nbformat": 4,
 "nbformat_minor": 5
}